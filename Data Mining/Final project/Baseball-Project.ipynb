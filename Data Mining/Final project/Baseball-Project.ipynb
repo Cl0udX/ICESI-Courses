{
 "cells": [
  {
   "cell_type": "markdown",
   "metadata": {},
   "source": [
    "# Mauricio Hernández A00042988"
   ]
  },
  {
   "cell_type": "markdown",
   "metadata": {},
   "source": [
    "## Análisis exploratorio de datos (EDA)"
   ]
  },
  {
   "cell_type": "markdown",
   "metadata": {},
   "source": [
    "Importar las librerias necesarias para realizar el análisis exploratorio de datos (EDA)."
   ]
  },
  {
   "cell_type": "code",
   "execution_count": 8,
   "metadata": {},
   "outputs": [],
   "source": [
    "import matplotlib.pyplot as plt\n",
    "import seaborn as sns\n",
    "import numpy as np\n",
    "import pandas as pd\n",
    "import warnings\n",
    "from mpl_toolkits.mplot3d import Axes3D\n",
    "warnings.filterwarnings('ignore')\n",
    "from sklearn.neighbors import KNeighborsRegressor\n",
    "from sklearn import datasets, metrics\n",
    "from sklearn import preprocessing\n",
    "from sklearn.model_selection import train_test_split\n",
    "import math"
   ]
  },
  {
   "cell_type": "code",
   "execution_count": 2,
   "metadata": {},
   "outputs": [
    {
     "data": {
      "text/html": [
       "<div>\n",
       "<style scoped>\n",
       "    .dataframe tbody tr th:only-of-type {\n",
       "        vertical-align: middle;\n",
       "    }\n",
       "\n",
       "    .dataframe tbody tr th {\n",
       "        vertical-align: top;\n",
       "    }\n",
       "\n",
       "    .dataframe thead th {\n",
       "        text-align: right;\n",
       "    }\n",
       "</style>\n",
       "<table border=\"1\" class=\"dataframe\">\n",
       "  <thead>\n",
       "    <tr style=\"text-align: right;\">\n",
       "      <th></th>\n",
       "      <th>count</th>\n",
       "      <th>mean</th>\n",
       "      <th>std</th>\n",
       "      <th>min</th>\n",
       "      <th>25%</th>\n",
       "      <th>50%</th>\n",
       "      <th>75%</th>\n",
       "      <th>max</th>\n",
       "    </tr>\n",
       "  </thead>\n",
       "  <tbody>\n",
       "    <tr>\n",
       "      <th>AtBat</th>\n",
       "      <td>322.0</td>\n",
       "      <td>380.928571</td>\n",
       "      <td>153.404981</td>\n",
       "      <td>16.0</td>\n",
       "      <td>255.25</td>\n",
       "      <td>379.5</td>\n",
       "      <td>512.00</td>\n",
       "      <td>687.0</td>\n",
       "    </tr>\n",
       "    <tr>\n",
       "      <th>Hits</th>\n",
       "      <td>322.0</td>\n",
       "      <td>101.024845</td>\n",
       "      <td>46.454741</td>\n",
       "      <td>1.0</td>\n",
       "      <td>64.00</td>\n",
       "      <td>96.0</td>\n",
       "      <td>137.00</td>\n",
       "      <td>238.0</td>\n",
       "    </tr>\n",
       "    <tr>\n",
       "      <th>HmRun</th>\n",
       "      <td>322.0</td>\n",
       "      <td>10.770186</td>\n",
       "      <td>8.709037</td>\n",
       "      <td>0.0</td>\n",
       "      <td>4.00</td>\n",
       "      <td>8.0</td>\n",
       "      <td>16.00</td>\n",
       "      <td>40.0</td>\n",
       "    </tr>\n",
       "    <tr>\n",
       "      <th>Runs</th>\n",
       "      <td>322.0</td>\n",
       "      <td>50.909938</td>\n",
       "      <td>26.024095</td>\n",
       "      <td>0.0</td>\n",
       "      <td>30.25</td>\n",
       "      <td>48.0</td>\n",
       "      <td>69.00</td>\n",
       "      <td>130.0</td>\n",
       "    </tr>\n",
       "    <tr>\n",
       "      <th>RBI</th>\n",
       "      <td>322.0</td>\n",
       "      <td>48.027950</td>\n",
       "      <td>26.166895</td>\n",
       "      <td>0.0</td>\n",
       "      <td>28.00</td>\n",
       "      <td>44.0</td>\n",
       "      <td>64.75</td>\n",
       "      <td>121.0</td>\n",
       "    </tr>\n",
       "    <tr>\n",
       "      <th>Walks</th>\n",
       "      <td>322.0</td>\n",
       "      <td>38.742236</td>\n",
       "      <td>21.639327</td>\n",
       "      <td>0.0</td>\n",
       "      <td>22.00</td>\n",
       "      <td>35.0</td>\n",
       "      <td>53.00</td>\n",
       "      <td>105.0</td>\n",
       "    </tr>\n",
       "    <tr>\n",
       "      <th>Years</th>\n",
       "      <td>322.0</td>\n",
       "      <td>7.444099</td>\n",
       "      <td>4.926087</td>\n",
       "      <td>1.0</td>\n",
       "      <td>4.00</td>\n",
       "      <td>6.0</td>\n",
       "      <td>11.00</td>\n",
       "      <td>24.0</td>\n",
       "    </tr>\n",
       "    <tr>\n",
       "      <th>CAtBat</th>\n",
       "      <td>322.0</td>\n",
       "      <td>2648.683230</td>\n",
       "      <td>2324.205870</td>\n",
       "      <td>19.0</td>\n",
       "      <td>816.75</td>\n",
       "      <td>1928.0</td>\n",
       "      <td>3924.25</td>\n",
       "      <td>14053.0</td>\n",
       "    </tr>\n",
       "    <tr>\n",
       "      <th>CHits</th>\n",
       "      <td>322.0</td>\n",
       "      <td>717.571429</td>\n",
       "      <td>654.472627</td>\n",
       "      <td>4.0</td>\n",
       "      <td>209.00</td>\n",
       "      <td>508.0</td>\n",
       "      <td>1059.25</td>\n",
       "      <td>4256.0</td>\n",
       "    </tr>\n",
       "    <tr>\n",
       "      <th>CHmRun</th>\n",
       "      <td>322.0</td>\n",
       "      <td>69.490683</td>\n",
       "      <td>86.266061</td>\n",
       "      <td>0.0</td>\n",
       "      <td>14.00</td>\n",
       "      <td>37.5</td>\n",
       "      <td>90.00</td>\n",
       "      <td>548.0</td>\n",
       "    </tr>\n",
       "    <tr>\n",
       "      <th>CRuns</th>\n",
       "      <td>322.0</td>\n",
       "      <td>358.795031</td>\n",
       "      <td>334.105886</td>\n",
       "      <td>1.0</td>\n",
       "      <td>100.25</td>\n",
       "      <td>247.0</td>\n",
       "      <td>526.25</td>\n",
       "      <td>2165.0</td>\n",
       "    </tr>\n",
       "    <tr>\n",
       "      <th>CRBI</th>\n",
       "      <td>322.0</td>\n",
       "      <td>330.118012</td>\n",
       "      <td>333.219617</td>\n",
       "      <td>0.0</td>\n",
       "      <td>88.75</td>\n",
       "      <td>220.5</td>\n",
       "      <td>426.25</td>\n",
       "      <td>1659.0</td>\n",
       "    </tr>\n",
       "    <tr>\n",
       "      <th>CWalks</th>\n",
       "      <td>322.0</td>\n",
       "      <td>260.239130</td>\n",
       "      <td>267.058085</td>\n",
       "      <td>0.0</td>\n",
       "      <td>67.25</td>\n",
       "      <td>170.5</td>\n",
       "      <td>339.25</td>\n",
       "      <td>1566.0</td>\n",
       "    </tr>\n",
       "    <tr>\n",
       "      <th>PutOuts</th>\n",
       "      <td>322.0</td>\n",
       "      <td>288.937888</td>\n",
       "      <td>280.704614</td>\n",
       "      <td>0.0</td>\n",
       "      <td>109.25</td>\n",
       "      <td>212.0</td>\n",
       "      <td>325.00</td>\n",
       "      <td>1378.0</td>\n",
       "    </tr>\n",
       "    <tr>\n",
       "      <th>Assists</th>\n",
       "      <td>322.0</td>\n",
       "      <td>106.913043</td>\n",
       "      <td>136.854876</td>\n",
       "      <td>0.0</td>\n",
       "      <td>7.00</td>\n",
       "      <td>39.5</td>\n",
       "      <td>166.00</td>\n",
       "      <td>492.0</td>\n",
       "    </tr>\n",
       "    <tr>\n",
       "      <th>Errors</th>\n",
       "      <td>322.0</td>\n",
       "      <td>8.040373</td>\n",
       "      <td>6.368359</td>\n",
       "      <td>0.0</td>\n",
       "      <td>3.00</td>\n",
       "      <td>6.0</td>\n",
       "      <td>11.00</td>\n",
       "      <td>32.0</td>\n",
       "    </tr>\n",
       "    <tr>\n",
       "      <th>Salary</th>\n",
       "      <td>263.0</td>\n",
       "      <td>535.925882</td>\n",
       "      <td>451.118681</td>\n",
       "      <td>67.5</td>\n",
       "      <td>190.00</td>\n",
       "      <td>425.0</td>\n",
       "      <td>750.00</td>\n",
       "      <td>2460.0</td>\n",
       "    </tr>\n",
       "  </tbody>\n",
       "</table>\n",
       "</div>"
      ],
      "text/plain": [
       "         count         mean          std   min     25%     50%      75%  \\\n",
       "AtBat    322.0   380.928571   153.404981  16.0  255.25   379.5   512.00   \n",
       "Hits     322.0   101.024845    46.454741   1.0   64.00    96.0   137.00   \n",
       "HmRun    322.0    10.770186     8.709037   0.0    4.00     8.0    16.00   \n",
       "Runs     322.0    50.909938    26.024095   0.0   30.25    48.0    69.00   \n",
       "RBI      322.0    48.027950    26.166895   0.0   28.00    44.0    64.75   \n",
       "Walks    322.0    38.742236    21.639327   0.0   22.00    35.0    53.00   \n",
       "Years    322.0     7.444099     4.926087   1.0    4.00     6.0    11.00   \n",
       "CAtBat   322.0  2648.683230  2324.205870  19.0  816.75  1928.0  3924.25   \n",
       "CHits    322.0   717.571429   654.472627   4.0  209.00   508.0  1059.25   \n",
       "CHmRun   322.0    69.490683    86.266061   0.0   14.00    37.5    90.00   \n",
       "CRuns    322.0   358.795031   334.105886   1.0  100.25   247.0   526.25   \n",
       "CRBI     322.0   330.118012   333.219617   0.0   88.75   220.5   426.25   \n",
       "CWalks   322.0   260.239130   267.058085   0.0   67.25   170.5   339.25   \n",
       "PutOuts  322.0   288.937888   280.704614   0.0  109.25   212.0   325.00   \n",
       "Assists  322.0   106.913043   136.854876   0.0    7.00    39.5   166.00   \n",
       "Errors   322.0     8.040373     6.368359   0.0    3.00     6.0    11.00   \n",
       "Salary   263.0   535.925882   451.118681  67.5  190.00   425.0   750.00   \n",
       "\n",
       "             max  \n",
       "AtBat      687.0  \n",
       "Hits       238.0  \n",
       "HmRun       40.0  \n",
       "Runs       130.0  \n",
       "RBI        121.0  \n",
       "Walks      105.0  \n",
       "Years       24.0  \n",
       "CAtBat   14053.0  \n",
       "CHits     4256.0  \n",
       "CHmRun     548.0  \n",
       "CRuns     2165.0  \n",
       "CRBI      1659.0  \n",
       "CWalks    1566.0  \n",
       "PutOuts   1378.0  \n",
       "Assists    492.0  \n",
       "Errors      32.0  \n",
       "Salary    2460.0  "
      ]
     },
     "execution_count": 2,
     "metadata": {},
     "output_type": "execute_result"
    }
   ],
   "source": [
    "data = pd.read_csv(\"Baseball.csv\", sep=\",\")\n",
    "data.describe().T"
   ]
  },
  {
   "cell_type": "code",
   "execution_count": 3,
   "metadata": {},
   "outputs": [
    {
     "name": "stdout",
     "output_type": "stream",
     "text": [
      "<class 'pandas.core.frame.DataFrame'>\n",
      "RangeIndex: 322 entries, 0 to 321\n",
      "Data columns (total 21 columns):\n",
      "Player       322 non-null object\n",
      "AtBat        322 non-null int64\n",
      "Hits         322 non-null int64\n",
      "HmRun        322 non-null int64\n",
      "Runs         322 non-null int64\n",
      "RBI          322 non-null int64\n",
      "Walks        322 non-null int64\n",
      "Years        322 non-null int64\n",
      "CAtBat       322 non-null int64\n",
      "CHits        322 non-null int64\n",
      "CHmRun       322 non-null int64\n",
      "CRuns        322 non-null int64\n",
      "CRBI         322 non-null int64\n",
      "CWalks       322 non-null int64\n",
      "League       322 non-null object\n",
      "Division     322 non-null object\n",
      "PutOuts      322 non-null int64\n",
      "Assists      322 non-null int64\n",
      "Errors       322 non-null int64\n",
      "NewLeague    322 non-null object\n",
      "Salary       263 non-null float64\n",
      "dtypes: float64(1), int64(16), object(4)\n",
      "memory usage: 52.9+ KB\n"
     ]
    }
   ],
   "source": [
    "data.info()"
   ]
  },
  {
   "cell_type": "markdown",
   "metadata": {},
   "source": [
    "No hay datos faltantes o negativos en las variables predictoras."
   ]
  },
  {
   "cell_type": "markdown",
   "metadata": {},
   "source": [
    "## Analisis de variables numericas"
   ]
  },
  {
   "cell_type": "code",
   "execution_count": 9,
   "metadata": {},
   "outputs": [],
   "source": [
    "nonNumericVar = [\"Player\", \"League\", \"NewLeague\", \"Division\"]\n",
    "numericData = data.drop(columns=nonNumericVar)"
   ]
  },
  {
   "cell_type": "code",
   "execution_count": 10,
   "metadata": {},
   "outputs": [],
   "source": [
    "min_max_scaler = preprocessing.MinMaxScaler()\n",
    "scaled_data = min_max_scaler.fit_transform(numericData)\n",
    "scaled_data = pd.DataFrame(scaled_data)\n",
    "scaled_data.columns = numericData.columns"
   ]
  },
  {
   "cell_type": "code",
   "execution_count": 11,
   "metadata": {},
   "outputs": [
    {
     "data": {
      "text/plain": [
       "{'whiskers': [<matplotlib.lines.Line2D at 0x7fe07b01db00>,\n",
       "  <matplotlib.lines.Line2D at 0x7fe07b01de48>,\n",
       "  <matplotlib.lines.Line2D at 0x7fe07afba2e8>,\n",
       "  <matplotlib.lines.Line2D at 0x7fe07afba630>,\n",
       "  <matplotlib.lines.Line2D at 0x7fe07afc3a20>,\n",
       "  <matplotlib.lines.Line2D at 0x7fe07afc3da0>,\n",
       "  <matplotlib.lines.Line2D at 0x7fe07afcbf28>,\n",
       "  <matplotlib.lines.Line2D at 0x7fe07afd6518>,\n",
       "  <matplotlib.lines.Line2D at 0x7fe07afe2908>,\n",
       "  <matplotlib.lines.Line2D at 0x7fe07afe2c50>,\n",
       "  <matplotlib.lines.Line2D at 0x7fe07afeadd8>,\n",
       "  <matplotlib.lines.Line2D at 0x7fe07af743c8>,\n",
       "  <matplotlib.lines.Line2D at 0x7fe07af7f7b8>,\n",
       "  <matplotlib.lines.Line2D at 0x7fe07af7fb00>,\n",
       "  <matplotlib.lines.Line2D at 0x7fe07af88ef0>,\n",
       "  <matplotlib.lines.Line2D at 0x7fe07af88fd0>,\n",
       "  <matplotlib.lines.Line2D at 0x7fe07af9a668>,\n",
       "  <matplotlib.lines.Line2D at 0x7fe07af9a9b0>,\n",
       "  <matplotlib.lines.Line2D at 0x7fe07afa5da0>,\n",
       "  <matplotlib.lines.Line2D at 0x7fe07afa5e80>,\n",
       "  <matplotlib.lines.Line2D at 0x7fe07af39518>,\n",
       "  <matplotlib.lines.Line2D at 0x7fe07af39860>,\n",
       "  <matplotlib.lines.Line2D at 0x7fe07af45c50>,\n",
       "  <matplotlib.lines.Line2D at 0x7fe07af45f98>,\n",
       "  <matplotlib.lines.Line2D at 0x7fe07af563c8>,\n",
       "  <matplotlib.lines.Line2D at 0x7fe07af56710>,\n",
       "  <matplotlib.lines.Line2D at 0x7fe07af61b00>,\n",
       "  <matplotlib.lines.Line2D at 0x7fe07af61e48>,\n",
       "  <matplotlib.lines.Line2D at 0x7fe07af6afd0>,\n",
       "  <matplotlib.lines.Line2D at 0x7fe07aef55c0>,\n",
       "  <matplotlib.lines.Line2D at 0x7fe07aefe860>,\n",
       "  <matplotlib.lines.Line2D at 0x7fe07aefeb70>,\n",
       "  <matplotlib.lines.Line2D at 0x7fe07af07e10>,\n",
       "  <matplotlib.lines.Line2D at 0x7fe07af07ef0>],\n",
       " 'caps': [<matplotlib.lines.Line2D at 0x7fe07b01df28>,\n",
       "  <matplotlib.lines.Line2D at 0x7fe07afb0518>,\n",
       "  <matplotlib.lines.Line2D at 0x7fe07afba978>,\n",
       "  <matplotlib.lines.Line2D at 0x7fe07afbacc0>,\n",
       "  <matplotlib.lines.Line2D at 0x7fe07afc3e80>,\n",
       "  <matplotlib.lines.Line2D at 0x7fe07afcb470>,\n",
       "  <matplotlib.lines.Line2D at 0x7fe07afd6860>,\n",
       "  <matplotlib.lines.Line2D at 0x7fe07afd6ba8>,\n",
       "  <matplotlib.lines.Line2D at 0x7fe07afe2f98>,\n",
       "  <matplotlib.lines.Line2D at 0x7fe07afea320>,\n",
       "  <matplotlib.lines.Line2D at 0x7fe07af74710>,\n",
       "  <matplotlib.lines.Line2D at 0x7fe07af74a58>,\n",
       "  <matplotlib.lines.Line2D at 0x7fe07af7fe48>,\n",
       "  <matplotlib.lines.Line2D at 0x7fe07af7ff28>,\n",
       "  <matplotlib.lines.Line2D at 0x7fe07af925c0>,\n",
       "  <matplotlib.lines.Line2D at 0x7fe07af92908>,\n",
       "  <matplotlib.lines.Line2D at 0x7fe07af9acf8>,\n",
       "  <matplotlib.lines.Line2D at 0x7fe07af9add8>,\n",
       "  <matplotlib.lines.Line2D at 0x7fe07af30470>,\n",
       "  <matplotlib.lines.Line2D at 0x7fe07af307b8>,\n",
       "  <matplotlib.lines.Line2D at 0x7fe07af39ba8>,\n",
       "  <matplotlib.lines.Line2D at 0x7fe07af39ef0>,\n",
       "  <matplotlib.lines.Line2D at 0x7fe07af4c320>,\n",
       "  <matplotlib.lines.Line2D at 0x7fe07af4c668>,\n",
       "  <matplotlib.lines.Line2D at 0x7fe07af56a58>,\n",
       "  <matplotlib.lines.Line2D at 0x7fe07af56da0>,\n",
       "  <matplotlib.lines.Line2D at 0x7fe07af61f28>,\n",
       "  <matplotlib.lines.Line2D at 0x7fe07af6a518>,\n",
       "  <matplotlib.lines.Line2D at 0x7fe07aef58d0>,\n",
       "  <matplotlib.lines.Line2D at 0x7fe07aef5be0>,\n",
       "  <matplotlib.lines.Line2D at 0x7fe07aefee80>,\n",
       "  <matplotlib.lines.Line2D at 0x7fe07aefef60>,\n",
       "  <matplotlib.lines.Line2D at 0x7fe07af07198>,\n",
       "  <matplotlib.lines.Line2D at 0x7fe07af13780>],\n",
       " 'boxes': [<matplotlib.lines.Line2D at 0x7fe07b01d6d8>,\n",
       "  <matplotlib.lines.Line2D at 0x7fe07afb0f28>,\n",
       "  <matplotlib.lines.Line2D at 0x7fe07afc36d8>,\n",
       "  <matplotlib.lines.Line2D at 0x7fe07afcbe48>,\n",
       "  <matplotlib.lines.Line2D at 0x7fe07afe25c0>,\n",
       "  <matplotlib.lines.Line2D at 0x7fe07afeacf8>,\n",
       "  <matplotlib.lines.Line2D at 0x7fe07af7f470>,\n",
       "  <matplotlib.lines.Line2D at 0x7fe07af88ba8>,\n",
       "  <matplotlib.lines.Line2D at 0x7fe07af9a320>,\n",
       "  <matplotlib.lines.Line2D at 0x7fe07afa5a58>,\n",
       "  <matplotlib.lines.Line2D at 0x7fe07af30ef0>,\n",
       "  <matplotlib.lines.Line2D at 0x7fe07af45908>,\n",
       "  <matplotlib.lines.Line2D at 0x7fe07af4cda0>,\n",
       "  <matplotlib.lines.Line2D at 0x7fe07af617b8>,\n",
       "  <matplotlib.lines.Line2D at 0x7fe07af6aef0>,\n",
       "  <matplotlib.lines.Line2D at 0x7fe07aef5588>,\n",
       "  <matplotlib.lines.Line2D at 0x7fe07af07b00>],\n",
       " 'medians': [<matplotlib.lines.Line2D at 0x7fe07afb0860>,\n",
       "  <matplotlib.lines.Line2D at 0x7fe07afbada0>,\n",
       "  <matplotlib.lines.Line2D at 0x7fe07afcb7b8>,\n",
       "  <matplotlib.lines.Line2D at 0x7fe07afd6ef0>,\n",
       "  <matplotlib.lines.Line2D at 0x7fe07afea668>,\n",
       "  <matplotlib.lines.Line2D at 0x7fe07af74da0>,\n",
       "  <matplotlib.lines.Line2D at 0x7fe07af88518>,\n",
       "  <matplotlib.lines.Line2D at 0x7fe07af92c50>,\n",
       "  <matplotlib.lines.Line2D at 0x7fe07afa53c8>,\n",
       "  <matplotlib.lines.Line2D at 0x7fe07af30b00>,\n",
       "  <matplotlib.lines.Line2D at 0x7fe07af39fd0>,\n",
       "  <matplotlib.lines.Line2D at 0x7fe07af4c9b0>,\n",
       "  <matplotlib.lines.Line2D at 0x7fe07af56e80>,\n",
       "  <matplotlib.lines.Line2D at 0x7fe07af6a860>,\n",
       "  <matplotlib.lines.Line2D at 0x7fe07aef5ef0>,\n",
       "  <matplotlib.lines.Line2D at 0x7fe07aefe208>,\n",
       "  <matplotlib.lines.Line2D at 0x7fe07af13a90>],\n",
       " 'fliers': [<matplotlib.lines.Line2D at 0x7fe07afb0ba8>,\n",
       "  <matplotlib.lines.Line2D at 0x7fe07afc3390>,\n",
       "  <matplotlib.lines.Line2D at 0x7fe07afcbb00>,\n",
       "  <matplotlib.lines.Line2D at 0x7fe07afd6fd0>,\n",
       "  <matplotlib.lines.Line2D at 0x7fe07afea9b0>,\n",
       "  <matplotlib.lines.Line2D at 0x7fe07af74e80>,\n",
       "  <matplotlib.lines.Line2D at 0x7fe07af88860>,\n",
       "  <matplotlib.lines.Line2D at 0x7fe07af92f98>,\n",
       "  <matplotlib.lines.Line2D at 0x7fe07afa5710>,\n",
       "  <matplotlib.lines.Line2D at 0x7fe07af30e48>,\n",
       "  <matplotlib.lines.Line2D at 0x7fe07af455c0>,\n",
       "  <matplotlib.lines.Line2D at 0x7fe07af4ccf8>,\n",
       "  <matplotlib.lines.Line2D at 0x7fe07af61470>,\n",
       "  <matplotlib.lines.Line2D at 0x7fe07af6aba8>,\n",
       "  <matplotlib.lines.Line2D at 0x7fe07aef5fd0>,\n",
       "  <matplotlib.lines.Line2D at 0x7fe07af077f0>,\n",
       "  <matplotlib.lines.Line2D at 0x7fe07af13da0>],\n",
       " 'means': []}"
      ]
     },
     "execution_count": 11,
     "metadata": {},
     "output_type": "execute_result"
    },
    {
     "data": {
      "image/png": "[encoded data removed]",
      "text/plain": [
       "<Figure size 1080x432 with 1 Axes>"
      ]
     },
     "metadata": {
      "needs_background": "light"
     },
     "output_type": "display_data"
    }
   ],
   "source": [
    "fig, axs = plt.subplots(figsize=(15,6))\n",
    "axs.boxplot(scaled_data.T, labels=scaled_data.columns)"
   ]
  },
  {
   "cell_type": "markdown",
   "metadata": {},
   "source": [
    "En general, todas la variables presentan datos atipicos pero los datos que realmente presentan problemas son aquellos que se encuentran lejos de sus los demas. En la mayoria de los casos existen dos o tres valores que deben ser eliminados para cada variable."
   ]
  },
  {
   "cell_type": "markdown",
   "metadata": {},
   "source": [
    "## Correlacion entre variables"
   ]
  },
  {
   "cell_type": "code",
   "execution_count": 12,
   "metadata": {},
   "outputs": [
    {
     "data": {
      "text/html": [
       "<div>\n",
       "<style scoped>\n",
       "    .dataframe tbody tr th:only-of-type {\n",
       "        vertical-align: middle;\n",
       "    }\n",
       "\n",
       "    .dataframe tbody tr th {\n",
       "        vertical-align: top;\n",
       "    }\n",
       "\n",
       "    .dataframe thead th {\n",
       "        text-align: right;\n",
       "    }\n",
       "</style>\n",
       "<table border=\"1\" class=\"dataframe\">\n",
       "  <thead>\n",
       "    <tr style=\"text-align: right;\">\n",
       "      <th></th>\n",
       "      <th>AtBat</th>\n",
       "      <th>Hits</th>\n",
       "      <th>HmRun</th>\n",
       "      <th>Runs</th>\n",
       "      <th>RBI</th>\n",
       "      <th>Walks</th>\n",
       "      <th>Years</th>\n",
       "      <th>CAtBat</th>\n",
       "      <th>CHits</th>\n",
       "      <th>CHmRun</th>\n",
       "      <th>CRuns</th>\n",
       "      <th>CRBI</th>\n",
       "      <th>CWalks</th>\n",
       "      <th>PutOuts</th>\n",
       "      <th>Assists</th>\n",
       "      <th>Errors</th>\n",
       "      <th>Salary</th>\n",
       "    </tr>\n",
       "  </thead>\n",
       "  <tbody>\n",
       "    <tr>\n",
       "      <th>1</th>\n",
       "      <td>315</td>\n",
       "      <td>81</td>\n",
       "      <td>7</td>\n",
       "      <td>24</td>\n",
       "      <td>38</td>\n",
       "      <td>39</td>\n",
       "      <td>14</td>\n",
       "      <td>3449</td>\n",
       "      <td>835</td>\n",
       "      <td>69</td>\n",
       "      <td>321</td>\n",
       "      <td>414</td>\n",
       "      <td>375</td>\n",
       "      <td>632</td>\n",
       "      <td>43</td>\n",
       "      <td>10</td>\n",
       "      <td>475.0</td>\n",
       "    </tr>\n",
       "    <tr>\n",
       "      <th>2</th>\n",
       "      <td>479</td>\n",
       "      <td>130</td>\n",
       "      <td>18</td>\n",
       "      <td>66</td>\n",
       "      <td>72</td>\n",
       "      <td>76</td>\n",
       "      <td>3</td>\n",
       "      <td>1624</td>\n",
       "      <td>457</td>\n",
       "      <td>63</td>\n",
       "      <td>224</td>\n",
       "      <td>266</td>\n",
       "      <td>263</td>\n",
       "      <td>880</td>\n",
       "      <td>82</td>\n",
       "      <td>14</td>\n",
       "      <td>480.0</td>\n",
       "    </tr>\n",
       "    <tr>\n",
       "      <th>3</th>\n",
       "      <td>496</td>\n",
       "      <td>141</td>\n",
       "      <td>20</td>\n",
       "      <td>65</td>\n",
       "      <td>78</td>\n",
       "      <td>37</td>\n",
       "      <td>11</td>\n",
       "      <td>5628</td>\n",
       "      <td>1575</td>\n",
       "      <td>225</td>\n",
       "      <td>828</td>\n",
       "      <td>838</td>\n",
       "      <td>354</td>\n",
       "      <td>200</td>\n",
       "      <td>11</td>\n",
       "      <td>3</td>\n",
       "      <td>500.0</td>\n",
       "    </tr>\n",
       "    <tr>\n",
       "      <th>4</th>\n",
       "      <td>321</td>\n",
       "      <td>87</td>\n",
       "      <td>10</td>\n",
       "      <td>39</td>\n",
       "      <td>42</td>\n",
       "      <td>30</td>\n",
       "      <td>2</td>\n",
       "      <td>396</td>\n",
       "      <td>101</td>\n",
       "      <td>12</td>\n",
       "      <td>48</td>\n",
       "      <td>46</td>\n",
       "      <td>33</td>\n",
       "      <td>805</td>\n",
       "      <td>40</td>\n",
       "      <td>4</td>\n",
       "      <td>91.5</td>\n",
       "    </tr>\n",
       "    <tr>\n",
       "      <th>5</th>\n",
       "      <td>594</td>\n",
       "      <td>169</td>\n",
       "      <td>4</td>\n",
       "      <td>74</td>\n",
       "      <td>51</td>\n",
       "      <td>35</td>\n",
       "      <td>11</td>\n",
       "      <td>4408</td>\n",
       "      <td>1133</td>\n",
       "      <td>19</td>\n",
       "      <td>501</td>\n",
       "      <td>336</td>\n",
       "      <td>194</td>\n",
       "      <td>282</td>\n",
       "      <td>421</td>\n",
       "      <td>25</td>\n",
       "      <td>750.0</td>\n",
       "    </tr>\n",
       "  </tbody>\n",
       "</table>\n",
       "</div>"
      ],
      "text/plain": [
       "   AtBat  Hits  HmRun  Runs  RBI  Walks  Years  CAtBat  CHits  CHmRun  CRuns  \\\n",
       "1    315    81      7    24   38     39     14    3449    835      69    321   \n",
       "2    479   130     18    66   72     76      3    1624    457      63    224   \n",
       "3    496   141     20    65   78     37     11    5628   1575     225    828   \n",
       "4    321    87     10    39   42     30      2     396    101      12     48   \n",
       "5    594   169      4    74   51     35     11    4408   1133      19    501   \n",
       "\n",
       "   CRBI  CWalks  PutOuts  Assists  Errors  Salary  \n",
       "1   414     375      632       43      10   475.0  \n",
       "2   266     263      880       82      14   480.0  \n",
       "3   838     354      200       11       3   500.0  \n",
       "4    46      33      805       40       4    91.5  \n",
       "5   336     194      282      421      25   750.0  "
      ]
     },
     "execution_count": 12,
     "metadata": {},
     "output_type": "execute_result"
    }
   ],
   "source": [
    "noNullData = numericData.loc[~numericData.Salary.isnull(), 'Salary']\n",
    "noNullData = numericData.iloc[noNullData.index]\n",
    "noNullData.head()"
   ]
  },
  {
   "cell_type": "code",
   "execution_count": 13,
   "metadata": {},
   "outputs": [
    {
     "data": {
      "image/png": "[encoded data removed]",
      "text/plain": [
       "<Figure size 720x720 with 2 Axes>"
      ]
     },
     "metadata": {
      "needs_background": "light"
     },
     "output_type": "display_data"
    }
   ],
   "source": [
    "corr = noNullData.corr()\n",
    "\n",
    "fig, ax = plt.subplots(figsize=(10,10))\n",
    "\n",
    "ax = sns.heatmap(\n",
    "    corr, \n",
    "    vmin=-1, vmax=1, center=0,\n",
    "    cmap=sns.diverging_palette(20, 220, n=200),\n",
    "    square=True\n",
    ")\n",
    "ax.set_xticklabels(\n",
    "    ax.get_xticklabels(),\n",
    "    rotation=45,\n",
    "    horizontalalignment='right'\n",
    ");"
   ]
  },
  {
   "cell_type": "markdown",
   "metadata": {},
   "source": [
    "Como se puede ver en el grafico, en la ultima linea, se evidencia que la mayoria de las varibales numericas tiene una correlacion mayor a cero con la variable **SALARY**"
   ]
  },
  {
   "cell_type": "markdown",
   "metadata": {},
   "source": [
    "## Analisis de varibles categoricas"
   ]
  },
  {
   "cell_type": "code",
   "execution_count": 14,
   "metadata": {},
   "outputs": [
    {
     "data": {
      "text/html": [
       "<div>\n",
       "<style scoped>\n",
       "    .dataframe tbody tr th:only-of-type {\n",
       "        vertical-align: middle;\n",
       "    }\n",
       "\n",
       "    .dataframe tbody tr th {\n",
       "        vertical-align: top;\n",
       "    }\n",
       "\n",
       "    .dataframe thead th {\n",
       "        text-align: right;\n",
       "    }\n",
       "</style>\n",
       "<table border=\"1\" class=\"dataframe\">\n",
       "  <thead>\n",
       "    <tr style=\"text-align: right;\">\n",
       "      <th></th>\n",
       "      <th>Division</th>\n",
       "      <th>League</th>\n",
       "      <th>Salary</th>\n",
       "    </tr>\n",
       "  </thead>\n",
       "  <tbody>\n",
       "    <tr>\n",
       "      <th>0</th>\n",
       "      <td>E</td>\n",
       "      <td>A</td>\n",
       "      <td>NaN</td>\n",
       "    </tr>\n",
       "    <tr>\n",
       "      <th>1</th>\n",
       "      <td>W</td>\n",
       "      <td>N</td>\n",
       "      <td>475.0</td>\n",
       "    </tr>\n",
       "    <tr>\n",
       "      <th>2</th>\n",
       "      <td>W</td>\n",
       "      <td>A</td>\n",
       "      <td>480.0</td>\n",
       "    </tr>\n",
       "    <tr>\n",
       "      <th>3</th>\n",
       "      <td>E</td>\n",
       "      <td>N</td>\n",
       "      <td>500.0</td>\n",
       "    </tr>\n",
       "    <tr>\n",
       "      <th>4</th>\n",
       "      <td>E</td>\n",
       "      <td>N</td>\n",
       "      <td>91.5</td>\n",
       "    </tr>\n",
       "  </tbody>\n",
       "</table>\n",
       "</div>"
      ],
      "text/plain": [
       "  Division League  Salary\n",
       "0        E      A     NaN\n",
       "1        W      N   475.0\n",
       "2        W      A   480.0\n",
       "3        E      N   500.0\n",
       "4        E      N    91.5"
      ]
     },
     "execution_count": 14,
     "metadata": {},
     "output_type": "execute_result"
    }
   ],
   "source": [
    "categoryVar = ['Division', 'League', 'Salary']\n",
    "categoryData = data[categoryVar]\n",
    "categoryData.head()"
   ]
  },
  {
   "cell_type": "code",
   "execution_count": 15,
   "metadata": {},
   "outputs": [
    {
     "data": {
      "text/plain": [
       "<matplotlib.axes._subplots.AxesSubplot at 0x7fe07aeae128>"
      ]
     },
     "execution_count": 15,
     "metadata": {},
     "output_type": "execute_result"
    },
    {
     "data": {
      "image/png": "[encoded data removed]",
      "text/plain": [
       "<Figure size 432x288 with 1 Axes>"
      ]
     },
     "metadata": {
      "needs_background": "light"
     },
     "output_type": "display_data"
    }
   ],
   "source": [
    "sns.scatterplot(x=\"Division\",y=\"Salary\", data=categoryData)"
   ]
  },
  {
   "cell_type": "code",
   "execution_count": 16,
   "metadata": {},
   "outputs": [
    {
     "data": {
      "text/plain": [
       "<matplotlib.axes._subplots.AxesSubplot at 0x7fe07acfec18>"
      ]
     },
     "execution_count": 16,
     "metadata": {},
     "output_type": "execute_result"
    },
    {
     "data": {
      "image/png": "[encoded data removed]",
      "text/plain": [
       "<Figure size 432x288 with 1 Axes>"
      ]
     },
     "metadata": {
      "needs_background": "light"
     },
     "output_type": "display_data"
    }
   ],
   "source": [
    "sns.scatterplot(x=\"League\", y=\"Salary\", data=categoryData)"
   ]
  },
  {
   "cell_type": "markdown",
   "metadata": {},
   "source": [
    "Se puede observar que las variables categoricas predictoras nos seran utiles al momento de predecir el salario de los jugadores. Esto se evidencia en que tanto para **DIVISION** y **LEAGUE** la diferencia de salarios entre sus categorias internas no es significativa."
   ]
  },
  {
   "cell_type": "markdown",
   "metadata": {},
   "source": [
    "## Problemas encontrados y decisiones"
   ]
  },
  {
   "cell_type": "markdown",
   "metadata": {},
   "source": [
    "1. Los diagramas de bigotes muestran que, a lo sumo, los 5 últimos registros son los más lejanos. En la siguinete fase estos se eliminarán.\n",
    "2. Las varibales **Division**, **League**, **Newleague** y **Player** seran suprimidas pues no representan utilidad.\n",
    "3. Las variables numericas **Errors** y **Assists** seran eliminadas ya que no se correlacionan con la variable objetivo."
   ]
  },
  {
   "cell_type": "markdown",
   "metadata": {},
   "source": [
    "# Modelo preliminar"
   ]
  },
  {
   "cell_type": "markdown",
   "metadata": {},
   "source": [
    "Importar las librerias para hacer la regresion mediante KNN como modelo preliminar"
   ]
  },
  {
   "cell_type": "markdown",
   "metadata": {},
   "source": [
    "Las varibles numericas con mayor correlacion observadas en la etapa de analisis explotartorio se usaran para el modelo preliminar."
   ]
  },
  {
   "cell_type": "code",
   "execution_count": 17,
   "metadata": {},
   "outputs": [],
   "source": [
    "targetVar = [\"Salary\"]\n",
    "predictorVars = [\"CAtBat\", \"CHits\", \"CRuns\", \"CRBI\"]\n",
    "targetData = noNullData[targetVar]\n",
    "predictorData = noNullData[predictorVars]"
   ]
  },
  {
   "cell_type": "markdown",
   "metadata": {},
   "source": [
    "Vamos a normalizar los datos, a realizar un holdout de estos y entrenar el modelo de regresion con un k=10 seleccionado por decision nuestra."
   ]
  },
  {
   "cell_type": "code",
   "execution_count": 18,
   "metadata": {},
   "outputs": [
    {
     "data": {
      "text/plain": [
       "KNeighborsRegressor(algorithm='auto', leaf_size=30, metric='minkowski',\n",
       "          metric_params=None, n_jobs=None, n_neighbors=15, p=2,\n",
       "          weights='uniform')"
      ]
     },
     "execution_count": 18,
     "metadata": {},
     "output_type": "execute_result"
    }
   ],
   "source": [
    "min_max_scaler = preprocessing.MinMaxScaler()\n",
    "target_scaled = min_max_scaler.fit_transform(targetData)\n",
    "predictor_scaled = min_max_scaler.fit_transform(predictorData)\n",
    "knnModel = KNeighborsRegressor(n_neighbors=15)\n",
    "X_train,X_test,y_train,y_test=train_test_split(predictor_scaled,target_scaled,test_size=.3,random_state=0)\n",
    "knnModel.fit(X_train,y_train)"
   ]
  },
  {
   "cell_type": "code",
   "execution_count": 19,
   "metadata": {},
   "outputs": [],
   "source": [
    "def error(p):\n",
    "    i=0\n",
    "    m=p.size\n",
    "    suma=0\n",
    "    while(i<m):\n",
    "        suma+=abs(y_test[i]/p[i])\n",
    "        i+=1\n",
    "    return (1/m)*suma"
   ]
  },
  {
   "cell_type": "markdown",
   "metadata": {},
   "source": [
    "Una vez entrenado en modelo, hacemos la preddicon con los datos de pruebas y obtenemos la media del error cuadratico como metrica de evaluacion."
   ]
  },
  {
   "cell_type": "code",
   "execution_count": 20,
   "metadata": {},
   "outputs": [
    {
     "name": "stdout",
     "output_type": "stream",
     "text": [
      "Error en centavos =  0.16715637305674413\n",
      "R^2 =  0.3940251810213673\n",
      "Error =  [0.15971005]\n"
     ]
    }
   ],
   "source": [
    "predict = knnModel.predict(X_test)\n",
    "print(\"Error en centavos = \",math.sqrt(metrics.mean_squared_error(y_test, predict)))\n",
    "print(\"R^2 = \",metrics.r2_score(y_test,predict))\n",
    "print(\"Error = \",error(predict)-1)"
   ]
  },
  {
   "cell_type": "markdown",
   "metadata": {},
   "source": [
    "El error que se obtuvo es de 2.4%, pero tambien se debe tener en cuenta que la cantidad de los datos son pocos.\n",
    "Es posible que si tubieramos mas datos este error este sensible a cambios."
   ]
  },
  {
   "cell_type": "markdown",
   "metadata": {},
   "source": [
    "https://www.canva.com/design/DADqS-5k5eg/J0y1e-uL7al22yEdnk3wGw/edit"
   ]
  },
  {
   "cell_type": "markdown",
   "metadata": {},
   "source": [
    "## Entendimiento y limpieza de los datos"
   ]
  },
  {
   "cell_type": "code",
   "execution_count": 21,
   "metadata": {},
   "outputs": [
    {
     "data": {
      "text/plain": [
       "451.1186807025387"
      ]
     },
     "execution_count": 21,
     "metadata": {},
     "output_type": "execute_result"
    }
   ],
   "source": [
    "noNullData.Salary.std()"
   ]
  },
  {
   "cell_type": "markdown",
   "metadata": {},
   "source": [
    "En los diagramas de bigotes se puede ver que existen al menos jugadores que tiene la mayor valor en muchas de las variables. Vamos a eliminar estos jugadores de los datos, intentando eliminar la menor cantidad posible."
   ]
  },
  {
   "cell_type": "markdown",
   "metadata": {},
   "source": [
    "## Protocolo de evaluación"
   ]
  },
  {
   "cell_type": "markdown",
   "metadata": {},
   "source": [
    "Se usará el **K-Fold Cross Validation** con un holdout de **70/30 (train/test)** de los datos."
   ]
  },
  {
   "cell_type": "markdown",
   "metadata": {},
   "source": [
    "## Evaluacion de modelos"
   ]
  },
  {
   "cell_type": "code",
   "execution_count": 22,
   "metadata": {},
   "outputs": [],
   "source": [
    "from sklearn.linear_model import LinearRegression # modelos lineales\n",
    "from sklearn.metrics import r2_score\n",
    "from sklearn.model_selection import GridSearchCV\n",
    "import warnings"
   ]
  },
  {
   "cell_type": "code",
   "execution_count": 23,
   "metadata": {},
   "outputs": [],
   "source": [
    "indep = noNullData.drop(columns=\"Salary\")\n",
    "colums_indep=indep.columns\n",
    "dep= pd.DataFrame(noNullData[\"Salary\"])\n",
    "colums_dep=dep.columns"
   ]
  },
  {
   "cell_type": "code",
   "execution_count": 24,
   "metadata": {},
   "outputs": [],
   "source": [
    "min_max_scaler = preprocessing.MinMaxScaler()\n",
    "indep_data = pd.DataFrame(min_max_scaler.fit_transform(indep),columns=colums_indep)\n",
    "dep_data = pd.DataFrame(min_max_scaler.fit_transform(dep),columns=colums_dep)\n"
   ]
  },
  {
   "cell_type": "code",
   "execution_count": 25,
   "metadata": {},
   "outputs": [],
   "source": [
    "valueTest=0.33\n",
    "valueSeed=44"
   ]
  },
  {
   "cell_type": "code",
   "execution_count": 26,
   "metadata": {},
   "outputs": [],
   "source": [
    "def R2_adj(test_y,test_y_pred,test_x):\n",
    "    r2_aj_test = 1 - (1-r2_score(test_y, test_y_pred))*(len(test_y)-1) / (len(test_y) - test_x.shape[1] - 1)\n",
    "    return r2_aj_test"
   ]
  },
  {
   "cell_type": "markdown",
   "metadata": {},
   "source": [
    "**Metodo de escogencia de variables con LinearRegression**"
   ]
  },
  {
   "cell_type": "code",
   "execution_count": 27,
   "metadata": {},
   "outputs": [],
   "source": [
    "def forward(frame, response):\n",
    "    remaining = set(frame.columns)\n",
    "    selected = []\n",
    "    current_score, best_new_score = 0.0, 0.0\n",
    "    while remaining and current_score == best_new_score:\n",
    "        scores_with_candidates = []\n",
    "        for candidate in remaining:\n",
    "            indep_vars_2 = selected+[candidate]\n",
    "            indep_data_2 = frame[indep_vars_2]\n",
    "            train_x, test_x, train_y, test_y = train_test_split(indep_data_2, dep_data, test_size=valueTest, random_state=valueSeed)\n",
    "            regr = LinearRegression(normalize=True)\n",
    "            regr.fit(train_x, train_y)\n",
    "            test_y_pred = regr.predict(test_x)\n",
    "            score = R2_adj(test_y,test_y_pred,test_x)            \n",
    "            scores_with_candidates.append((score, candidate))\n",
    "        scores_with_candidates.sort()\n",
    "        best_new_score, best_candidate = scores_with_candidates.pop()\n",
    "        if current_score < best_new_score:\n",
    "            remaining.remove(best_candidate)\n",
    "            selected.append(best_candidate)\n",
    "            current_score = best_new_score        \n",
    "    \n",
    "    \n",
    "    indep_vars_2 = selected\n",
    "    indep_data_2 = frame[indep_vars_2]\n",
    "    return selected\n",
    "    "
   ]
  },
  {
   "cell_type": "code",
   "execution_count": 28,
   "metadata": {},
   "outputs": [
    {
     "data": {
      "text/plain": [
       "['Hits',\n",
       " 'CRBI',\n",
       " 'AtBat',\n",
       " 'Walks',\n",
       " 'Years',\n",
       " 'CRuns',\n",
       " 'CWalks',\n",
       " 'PutOuts',\n",
       " 'CAtBat']"
      ]
     },
     "execution_count": 28,
     "metadata": {},
     "output_type": "execute_result"
    }
   ],
   "source": [
    "reg=forward(indep_data,dep_data)\n",
    "reg"
   ]
  },
  {
   "cell_type": "markdown",
   "metadata": {},
   "source": [
    "**Metodo de escogencia de variables con KNeighborsRegressor**"
   ]
  },
  {
   "cell_type": "code",
   "execution_count": 29,
   "metadata": {},
   "outputs": [],
   "source": [
    "def forwardknn(frame, response):\n",
    "    param_grid = {'n_neighbors': np.arange(5, 25)}\n",
    "    kSelected=None\n",
    "    kProcess=None\n",
    "    remaining = set(frame.columns)\n",
    "    selected = []\n",
    "    current_score, best_new_score = 0.0, 0.0\n",
    "    while remaining and current_score == best_new_score:\n",
    "        scores_with_candidates = []\n",
    "        for candidate in remaining:\n",
    "            indep_vars_2 = selected+[candidate]\n",
    "            indep_data_2 = frame[indep_vars_2]\n",
    "            train_x, test_x, train_y, test_y = train_test_split(indep_data_2, dep_data, test_size=valueTest, random_state=valueSeed)\n",
    "            knn2 = KNeighborsRegressor()\n",
    "            knn_gscv = GridSearchCV(knn2, param_grid, scoring='r2',cv=5)\n",
    "            knn_gscv.fit(train_x,train_y)\n",
    "            knn2 = KNeighborsRegressor(n_neighbors=knn_gscv.best_params_['n_neighbors'])\n",
    "            knn2.fit(train_x,train_y)\n",
    "            test_y_pred = knn2.predict(test_x)\n",
    "            score = R2_adj(test_y,test_y_pred,test_x)            \n",
    "            scores_with_candidates.append((score, candidate))\n",
    "            kProcess=knn_gscv.best_params_\n",
    "        scores_with_candidates.sort()\n",
    "        best_new_score, best_candidate = scores_with_candidates.pop()\n",
    "        if current_score < best_new_score:\n",
    "            remaining.remove(best_candidate)\n",
    "            selected.append(best_candidate)\n",
    "            kSelected = kProcess\n",
    "            current_score = best_new_score        \n",
    "    \n",
    "    \n",
    "    indep_vars_2 = selected\n",
    "    indep_data_2 = frame[indep_vars_2]\n",
    "    return selected, kSelected"
   ]
  },
  {
   "cell_type": "code",
   "execution_count": 30,
   "metadata": {},
   "outputs": [
    {
     "data": {
      "text/plain": [
       "(['CRBI', 'Years'], {'n_neighbors': 7})"
      ]
     },
     "execution_count": 30,
     "metadata": {},
     "output_type": "execute_result"
    }
   ],
   "source": [
    "warnings.filterwarnings(\"ignore\")\n",
    "reg=forwardknn(indep_data,dep_data)\n",
    "reg"
   ]
  },
  {
   "cell_type": "markdown",
   "metadata": {},
   "source": [
    "### KNN"
   ]
  },
  {
   "cell_type": "markdown",
   "metadata": {},
   "source": [
    "### Regresión lineal"
   ]
  },
  {
   "cell_type": "markdown",
   "metadata": {},
   "source": [
    "### Árbol de decisión"
   ]
  },
  {
   "cell_type": "markdown",
   "metadata": {},
   "source": [
    "## Entrenamiento modelos"
   ]
  },
  {
   "cell_type": "markdown",
   "metadata": {},
   "source": [
    "## Caracterización de beisbolistas"
   ]
  }
 ],
 "metadata": {
  "kernelspec": {
   "display_name": "Python 3",
   "language": "python",
   "name": "python3"
  },
  "language_info": {
   "codemirror_mode": {
    "name": "ipython",
    "version": 3
   },
   "file_extension": ".py",
   "mimetype": "text/x-python",
   "name": "python",
   "nbconvert_exporter": "python",
   "pygments_lexer": "ipython3",
   "version": "3.7.1"
  }
 },
 "nbformat": 4,
 "nbformat_minor": 4
}
